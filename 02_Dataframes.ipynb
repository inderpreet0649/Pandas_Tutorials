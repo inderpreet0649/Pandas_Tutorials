{
 "cells": [
  {
   "cell_type": "markdown",
   "id": "62148294-7792-4eb9-bfbf-884f0082166b",
   "metadata": {},
   "source": [
    "# Data Frame - Table"
   ]
  },
  {
   "cell_type": "markdown",
   "id": "b0f56855-ecbb-4382-bfd4-0781482a63a6",
   "metadata": {},
   "source": [
    "## Series - Row-Column"
   ]
  },
  {
   "cell_type": "code",
   "execution_count": 18,
   "id": "6e2c86e2-29ec-483a-a580-7ad2a1924ba8",
   "metadata": {},
   "outputs": [],
   "source": [
    "import numpy as np\n",
    "import pandas as pd"
   ]
  },
  {
   "cell_type": "code",
   "execution_count": 3,
   "id": "f5aae8d9-f3d7-4240-a33c-272f7de7cd59",
   "metadata": {},
   "outputs": [],
   "source": [
    "a = [\"inder\",\"preet\" , \"preety\"]"
   ]
  },
  {
   "cell_type": "code",
   "execution_count": 4,
   "id": "835b61f6-99a1-49a7-a174-b16c98f53790",
   "metadata": {},
   "outputs": [
    {
     "data": {
      "text/plain": [
       "['inder', 'preet', 'preety']"
      ]
     },
     "execution_count": 4,
     "metadata": {},
     "output_type": "execute_result"
    }
   ],
   "source": [
    "a"
   ]
  },
  {
   "cell_type": "code",
   "execution_count": 8,
   "id": "5d9b420d-eaff-4580-b7f8-ff727d0bd6c3",
   "metadata": {},
   "outputs": [],
   "source": [
    "a =pd.DataFrame(a)"
   ]
  },
  {
   "cell_type": "code",
   "execution_count": 9,
   "id": "77083ea3-aa0a-4d2c-82d5-185ff15bd31c",
   "metadata": {},
   "outputs": [
    {
     "data": {
      "text/html": [
       "<div>\n",
       "<style scoped>\n",
       "    .dataframe tbody tr th:only-of-type {\n",
       "        vertical-align: middle;\n",
       "    }\n",
       "\n",
       "    .dataframe tbody tr th {\n",
       "        vertical-align: top;\n",
       "    }\n",
       "\n",
       "    .dataframe thead th {\n",
       "        text-align: right;\n",
       "    }\n",
       "</style>\n",
       "<table border=\"1\" class=\"dataframe\">\n",
       "  <thead>\n",
       "    <tr style=\"text-align: right;\">\n",
       "      <th></th>\n",
       "      <th>0</th>\n",
       "    </tr>\n",
       "  </thead>\n",
       "  <tbody>\n",
       "    <tr>\n",
       "      <th>0</th>\n",
       "      <td>inder</td>\n",
       "    </tr>\n",
       "    <tr>\n",
       "      <th>1</th>\n",
       "      <td>preet</td>\n",
       "    </tr>\n",
       "    <tr>\n",
       "      <th>2</th>\n",
       "      <td>preety</td>\n",
       "    </tr>\n",
       "  </tbody>\n",
       "</table>\n",
       "</div>"
      ],
      "text/plain": [
       "        0\n",
       "0   inder\n",
       "1   preet\n",
       "2  preety"
      ]
     },
     "execution_count": 9,
     "metadata": {},
     "output_type": "execute_result"
    }
   ],
   "source": [
    "a"
   ]
  },
  {
   "cell_type": "code",
   "execution_count": 7,
   "id": "770c5193-2f02-42fd-ad7f-97df193a57a4",
   "metadata": {},
   "outputs": [],
   "source": [
    "b = [\"inder\",\"preet\" , \"preety\"]"
   ]
  },
  {
   "cell_type": "code",
   "execution_count": 11,
   "id": "99caf434-86e3-4976-8b12-c05e3a361736",
   "metadata": {},
   "outputs": [],
   "source": [
    "b= pd.DataFrame(b,index = [\"A\",\"B\",\"C\"] , columns = [\"Students\"])"
   ]
  },
  {
   "cell_type": "code",
   "execution_count": 13,
   "id": "488f0f97-061c-44a9-bdb3-083069a957c5",
   "metadata": {},
   "outputs": [
    {
     "data": {
      "text/html": [
       "<div>\n",
       "<style scoped>\n",
       "    .dataframe tbody tr th:only-of-type {\n",
       "        vertical-align: middle;\n",
       "    }\n",
       "\n",
       "    .dataframe tbody tr th {\n",
       "        vertical-align: top;\n",
       "    }\n",
       "\n",
       "    .dataframe thead th {\n",
       "        text-align: right;\n",
       "    }\n",
       "</style>\n",
       "<table border=\"1\" class=\"dataframe\">\n",
       "  <thead>\n",
       "    <tr style=\"text-align: right;\">\n",
       "      <th></th>\n",
       "      <th>Students</th>\n",
       "    </tr>\n",
       "  </thead>\n",
       "  <tbody>\n",
       "    <tr>\n",
       "      <th>A</th>\n",
       "      <td>inder</td>\n",
       "    </tr>\n",
       "    <tr>\n",
       "      <th>B</th>\n",
       "      <td>preet</td>\n",
       "    </tr>\n",
       "    <tr>\n",
       "      <th>C</th>\n",
       "      <td>preety</td>\n",
       "    </tr>\n",
       "  </tbody>\n",
       "</table>\n",
       "</div>"
      ],
      "text/plain": [
       "  Students\n",
       "A    inder\n",
       "B    preet\n",
       "C   preety"
      ]
     },
     "execution_count": 13,
     "metadata": {},
     "output_type": "execute_result"
    }
   ],
   "source": [
    "#row = Indexs.. column \n",
    "b"
   ]
  },
  {
   "cell_type": "code",
   "execution_count": 14,
   "id": "b23d5e26-14ad-4116-ac35-a02c9c0237da",
   "metadata": {},
   "outputs": [
    {
     "data": {
      "text/plain": [
       "pandas.core.frame.DataFrame"
      ]
     },
     "execution_count": 14,
     "metadata": {},
     "output_type": "execute_result"
    }
   ],
   "source": [
    "type(b)"
   ]
  },
  {
   "cell_type": "code",
   "execution_count": 16,
   "id": "d8d06fd5-1934-4399-b32f-b33c832b50c7",
   "metadata": {},
   "outputs": [
    {
     "data": {
      "text/plain": [
       "A     inder\n",
       "B     preet\n",
       "C    preety\n",
       "Name: Students, dtype: object"
      ]
     },
     "execution_count": 16,
     "metadata": {},
     "output_type": "execute_result"
    }
   ],
   "source": [
    "b[\"Students\"] #yeh hmme as a series milin hai"
   ]
  },
  {
   "cell_type": "code",
   "execution_count": 17,
   "id": "5a75cf48-c8dc-4ba8-af60-a568a5913482",
   "metadata": {},
   "outputs": [
    {
     "data": {
      "text/plain": [
       "pandas.core.series.Series"
      ]
     },
     "execution_count": 17,
     "metadata": {},
     "output_type": "execute_result"
    }
   ],
   "source": [
    "type(b[\"Students\"])"
   ]
  },
  {
   "cell_type": "markdown",
   "id": "a55f446d-61f4-4df8-9487-a5daedcb8de3",
   "metadata": {},
   "source": [
    "### Multiple Series"
   ]
  },
  {
   "cell_type": "code",
   "execution_count": 21,
   "id": "c9636736-f5b3-4402-9dee-a91fa70acca8",
   "metadata": {},
   "outputs": [],
   "source": [
    "names = ['Inder','preet','preety']\n",
    "marks = [50,20,60]"
   ]
  },
  {
   "cell_type": "code",
   "execution_count": 23,
   "id": "7379a2ad-9a4d-48cb-a035-bce66be35eac",
   "metadata": {},
   "outputs": [
    {
     "data": {
      "text/html": [
       "<div>\n",
       "<style scoped>\n",
       "    .dataframe tbody tr th:only-of-type {\n",
       "        vertical-align: middle;\n",
       "    }\n",
       "\n",
       "    .dataframe tbody tr th {\n",
       "        vertical-align: top;\n",
       "    }\n",
       "\n",
       "    .dataframe thead th {\n",
       "        text-align: right;\n",
       "    }\n",
       "</style>\n",
       "<table border=\"1\" class=\"dataframe\">\n",
       "  <thead>\n",
       "    <tr style=\"text-align: right;\">\n",
       "      <th></th>\n",
       "      <th>0</th>\n",
       "      <th>1</th>\n",
       "      <th>2</th>\n",
       "    </tr>\n",
       "  </thead>\n",
       "  <tbody>\n",
       "    <tr>\n",
       "      <th>0</th>\n",
       "      <td>Inder</td>\n",
       "      <td>preet</td>\n",
       "      <td>preety</td>\n",
       "    </tr>\n",
       "    <tr>\n",
       "      <th>1</th>\n",
       "      <td>50</td>\n",
       "      <td>20</td>\n",
       "      <td>60</td>\n",
       "    </tr>\n",
       "  </tbody>\n",
       "</table>\n",
       "</div>"
      ],
      "text/plain": [
       "       0      1       2\n",
       "0  Inder  preet  preety\n",
       "1     50     20      60"
      ]
     },
     "execution_count": 23,
     "metadata": {},
     "output_type": "execute_result"
    }
   ],
   "source": [
    "pd.DataFrame([names,marks])"
   ]
  },
  {
   "cell_type": "code",
   "execution_count": 24,
   "id": "6fd0a09d-40b0-40ac-8a45-677f4f143436",
   "metadata": {},
   "outputs": [
    {
     "data": {
      "text/html": [
       "<div>\n",
       "<style scoped>\n",
       "    .dataframe tbody tr th:only-of-type {\n",
       "        vertical-align: middle;\n",
       "    }\n",
       "\n",
       "    .dataframe tbody tr th {\n",
       "        vertical-align: top;\n",
       "    }\n",
       "\n",
       "    .dataframe thead th {\n",
       "        text-align: right;\n",
       "    }\n",
       "</style>\n",
       "<table border=\"1\" class=\"dataframe\">\n",
       "  <thead>\n",
       "    <tr style=\"text-align: right;\">\n",
       "      <th></th>\n",
       "      <th>0</th>\n",
       "    </tr>\n",
       "  </thead>\n",
       "  <tbody>\n",
       "    <tr>\n",
       "      <th>50</th>\n",
       "      <td>Inder</td>\n",
       "    </tr>\n",
       "    <tr>\n",
       "      <th>20</th>\n",
       "      <td>preet</td>\n",
       "    </tr>\n",
       "    <tr>\n",
       "      <th>60</th>\n",
       "      <td>preety</td>\n",
       "    </tr>\n",
       "  </tbody>\n",
       "</table>\n",
       "</div>"
      ],
      "text/plain": [
       "         0\n",
       "50   Inder\n",
       "20   preet\n",
       "60  preety"
      ]
     },
     "execution_count": 24,
     "metadata": {},
     "output_type": "execute_result"
    }
   ],
   "source": [
    "pd.DataFrame(names , marks)"
   ]
  },
  {
   "cell_type": "code",
   "execution_count": 28,
   "id": "90ccfd09-0b54-4974-953f-e4f089129030",
   "metadata": {},
   "outputs": [],
   "source": [
    "row1 =[\"Inder\" , 20 , \"Data Scientist\" , 90.4]\n",
    "row2 =[\"preet\" , 20 , \"Data Scientist\" , 98.4]\n",
    "row3 =[\"preety\" , 25 , \"Professor\" , 89.4]\n"
   ]
  },
  {
   "cell_type": "code",
   "execution_count": 31,
   "id": "4735670b-1739-4817-8751-b67430c406b5",
   "metadata": {},
   "outputs": [],
   "source": [
    "a =[row1 , row2 ,  row3]"
   ]
  },
  {
   "cell_type": "code",
   "execution_count": 32,
   "id": "36170279-9d9a-4d2c-a23d-2e405bf8a938",
   "metadata": {},
   "outputs": [],
   "source": [
    "b =np.array([row1 , row2 ,  row3])"
   ]
  },
  {
   "cell_type": "code",
   "execution_count": 37,
   "id": "6db137a3-fa7d-4ea0-807a-383227e66f82",
   "metadata": {},
   "outputs": [
    {
     "data": {
      "text/plain": [
       "[['Inder', 20, 'Data Scientist', 90.4],\n",
       " ['preet', 20, 'Data Scientist', 98.4],\n",
       " ['preety', 25, 'Professor', 89.4]]"
      ]
     },
     "execution_count": 37,
     "metadata": {},
     "output_type": "execute_result"
    }
   ],
   "source": [
    "#series\n",
    "a"
   ]
  },
  {
   "cell_type": "code",
   "execution_count": 38,
   "id": "65a409fa-526c-4817-ad5d-94f6d43ef000",
   "metadata": {},
   "outputs": [
    {
     "data": {
      "text/plain": [
       "array([['Inder', '20', 'Data Scientist', '90.4'],\n",
       "       ['preet', '20', 'Data Scientist', '98.4'],\n",
       "       ['preety', '25', 'Professor', '89.4']], dtype='<U32')"
      ]
     },
     "execution_count": 38,
     "metadata": {},
     "output_type": "execute_result"
    }
   ],
   "source": [
    "#numpy array\n",
    "b"
   ]
  },
  {
   "cell_type": "code",
   "execution_count": 39,
   "id": "e8e17c4b-507e-4b6c-9ec2-b2de33f5c294",
   "metadata": {},
   "outputs": [
    {
     "data": {
      "text/html": [
       "<div>\n",
       "<style scoped>\n",
       "    .dataframe tbody tr th:only-of-type {\n",
       "        vertical-align: middle;\n",
       "    }\n",
       "\n",
       "    .dataframe tbody tr th {\n",
       "        vertical-align: top;\n",
       "    }\n",
       "\n",
       "    .dataframe thead th {\n",
       "        text-align: right;\n",
       "    }\n",
       "</style>\n",
       "<table border=\"1\" class=\"dataframe\">\n",
       "  <thead>\n",
       "    <tr style=\"text-align: right;\">\n",
       "      <th></th>\n",
       "      <th>0</th>\n",
       "      <th>1</th>\n",
       "      <th>2</th>\n",
       "      <th>3</th>\n",
       "    </tr>\n",
       "  </thead>\n",
       "  <tbody>\n",
       "    <tr>\n",
       "      <th>0</th>\n",
       "      <td>Inder</td>\n",
       "      <td>20</td>\n",
       "      <td>Data Scientist</td>\n",
       "      <td>90.4</td>\n",
       "    </tr>\n",
       "    <tr>\n",
       "      <th>1</th>\n",
       "      <td>preet</td>\n",
       "      <td>20</td>\n",
       "      <td>Data Scientist</td>\n",
       "      <td>98.4</td>\n",
       "    </tr>\n",
       "    <tr>\n",
       "      <th>2</th>\n",
       "      <td>preety</td>\n",
       "      <td>25</td>\n",
       "      <td>Professor</td>\n",
       "      <td>89.4</td>\n",
       "    </tr>\n",
       "  </tbody>\n",
       "</table>\n",
       "</div>"
      ],
      "text/plain": [
       "        0   1               2     3\n",
       "0   Inder  20  Data Scientist  90.4\n",
       "1   preet  20  Data Scientist  98.4\n",
       "2  preety  25       Professor  89.4"
      ]
     },
     "execution_count": 39,
     "metadata": {},
     "output_type": "execute_result"
    }
   ],
   "source": [
    "#dataframe in table form\n",
    "pd.DataFrame(a)"
   ]
  },
  {
   "cell_type": "code",
   "execution_count": 40,
   "id": "a5db74ca-cabe-4140-bc01-ce38f79e8a7d",
   "metadata": {},
   "outputs": [
    {
     "data": {
      "text/html": [
       "<div>\n",
       "<style scoped>\n",
       "    .dataframe tbody tr th:only-of-type {\n",
       "        vertical-align: middle;\n",
       "    }\n",
       "\n",
       "    .dataframe tbody tr th {\n",
       "        vertical-align: top;\n",
       "    }\n",
       "\n",
       "    .dataframe thead th {\n",
       "        text-align: right;\n",
       "    }\n",
       "</style>\n",
       "<table border=\"1\" class=\"dataframe\">\n",
       "  <thead>\n",
       "    <tr style=\"text-align: right;\">\n",
       "      <th></th>\n",
       "      <th>0</th>\n",
       "      <th>1</th>\n",
       "      <th>2</th>\n",
       "      <th>3</th>\n",
       "    </tr>\n",
       "  </thead>\n",
       "  <tbody>\n",
       "    <tr>\n",
       "      <th>0</th>\n",
       "      <td>Inder</td>\n",
       "      <td>20</td>\n",
       "      <td>Data Scientist</td>\n",
       "      <td>90.4</td>\n",
       "    </tr>\n",
       "    <tr>\n",
       "      <th>1</th>\n",
       "      <td>preet</td>\n",
       "      <td>20</td>\n",
       "      <td>Data Scientist</td>\n",
       "      <td>98.4</td>\n",
       "    </tr>\n",
       "    <tr>\n",
       "      <th>2</th>\n",
       "      <td>preety</td>\n",
       "      <td>25</td>\n",
       "      <td>Professor</td>\n",
       "      <td>89.4</td>\n",
       "    </tr>\n",
       "  </tbody>\n",
       "</table>\n",
       "</div>"
      ],
      "text/plain": [
       "        0   1               2     3\n",
       "0   Inder  20  Data Scientist  90.4\n",
       "1   preet  20  Data Scientist  98.4\n",
       "2  preety  25       Professor  89.4"
      ]
     },
     "execution_count": 40,
     "metadata": {},
     "output_type": "execute_result"
    }
   ],
   "source": [
    "pd.DataFrame(b)"
   ]
  },
  {
   "cell_type": "code",
   "execution_count": 41,
   "id": "3716de58-8be9-4e30-9534-ff6b160374f3",
   "metadata": {},
   "outputs": [],
   "source": [
    "indexes = \"A B C\".split()"
   ]
  },
  {
   "cell_type": "code",
   "execution_count": 43,
   "id": "33f0a870-0882-4c97-8a2b-b895aa6a27b0",
   "metadata": {},
   "outputs": [],
   "source": [
    "columns = \"Name age work marks\".split()"
   ]
  },
  {
   "cell_type": "code",
   "execution_count": 45,
   "id": "65f54f32-3d22-487a-a09d-0f72884f39c8",
   "metadata": {},
   "outputs": [],
   "source": [
    "df = pd.DataFrame(a,index = indexes,columns = columns)"
   ]
  },
  {
   "cell_type": "code",
   "execution_count": 46,
   "id": "655f647e-b426-463c-8b9e-24a9c29d04ca",
   "metadata": {},
   "outputs": [
    {
     "data": {
      "text/html": [
       "<div>\n",
       "<style scoped>\n",
       "    .dataframe tbody tr th:only-of-type {\n",
       "        vertical-align: middle;\n",
       "    }\n",
       "\n",
       "    .dataframe tbody tr th {\n",
       "        vertical-align: top;\n",
       "    }\n",
       "\n",
       "    .dataframe thead th {\n",
       "        text-align: right;\n",
       "    }\n",
       "</style>\n",
       "<table border=\"1\" class=\"dataframe\">\n",
       "  <thead>\n",
       "    <tr style=\"text-align: right;\">\n",
       "      <th></th>\n",
       "      <th>Name</th>\n",
       "      <th>age</th>\n",
       "      <th>work</th>\n",
       "      <th>marks</th>\n",
       "    </tr>\n",
       "  </thead>\n",
       "  <tbody>\n",
       "    <tr>\n",
       "      <th>A</th>\n",
       "      <td>Inder</td>\n",
       "      <td>20</td>\n",
       "      <td>Data Scientist</td>\n",
       "      <td>90.4</td>\n",
       "    </tr>\n",
       "    <tr>\n",
       "      <th>B</th>\n",
       "      <td>preet</td>\n",
       "      <td>20</td>\n",
       "      <td>Data Scientist</td>\n",
       "      <td>98.4</td>\n",
       "    </tr>\n",
       "    <tr>\n",
       "      <th>C</th>\n",
       "      <td>preety</td>\n",
       "      <td>25</td>\n",
       "      <td>Professor</td>\n",
       "      <td>89.4</td>\n",
       "    </tr>\n",
       "  </tbody>\n",
       "</table>\n",
       "</div>"
      ],
      "text/plain": [
       "     Name  age            work  marks\n",
       "A   Inder   20  Data Scientist   90.4\n",
       "B   preet   20  Data Scientist   98.4\n",
       "C  preety   25       Professor   89.4"
      ]
     },
     "execution_count": 46,
     "metadata": {},
     "output_type": "execute_result"
    }
   ],
   "source": [
    "df"
   ]
  },
  {
   "cell_type": "code",
   "execution_count": 47,
   "id": "d096c0a2-d260-49ef-a9e5-f062afbd8385",
   "metadata": {},
   "outputs": [
    {
     "name": "stdout",
     "output_type": "stream",
     "text": [
      "     Name  age            work  marks\n",
      "A   Inder   20  Data Scientist   90.4\n",
      "B   preet   20  Data Scientist   98.4\n",
      "C  preety   25       Professor   89.4\n"
     ]
    }
   ],
   "source": [
    "print(df)"
   ]
  },
  {
   "cell_type": "markdown",
   "id": "5ce2a9fb-db35-4673-be24-8c1f70a28d84",
   "metadata": {},
   "source": [
    "### Putting data Through dictionary\n",
    "\n",
    "dictionary me data column wise jata hai always remember"
   ]
  },
  {
   "cell_type": "code",
   "execution_count": 54,
   "id": "ec3c8743-bcba-4c64-9f82-a609c44fb884",
   "metadata": {},
   "outputs": [],
   "source": [
    "d = {\n",
    "    1:[\"inder\" , 28 , \"netmax\" , 63.5],\n",
    "    2:[\"preet\" , 25 , \"dev\" , 65.8],\n",
    "    3:[\"preety\" , 20 , \"data\" , 73.1]\n",
    "\n",
    "}"
   ]
  },
  {
   "cell_type": "code",
   "execution_count": 55,
   "id": "62ad526e-c044-46ac-8b9c-78a16c2ca122",
   "metadata": {},
   "outputs": [
    {
     "data": {
      "text/plain": [
       "{1: ['inder', 28, 'netmax', 63.5],\n",
       " 2: ['preet', 25, 'dev', 65.8],\n",
       " 3: ['preety', 20, 'data', 73.1]}"
      ]
     },
     "execution_count": 55,
     "metadata": {},
     "output_type": "execute_result"
    }
   ],
   "source": [
    "d"
   ]
  },
  {
   "cell_type": "code",
   "execution_count": 56,
   "id": "f425795d-fe32-4ae9-acbd-1215cd685895",
   "metadata": {},
   "outputs": [
    {
     "data": {
      "text/html": [
       "<div>\n",
       "<style scoped>\n",
       "    .dataframe tbody tr th:only-of-type {\n",
       "        vertical-align: middle;\n",
       "    }\n",
       "\n",
       "    .dataframe tbody tr th {\n",
       "        vertical-align: top;\n",
       "    }\n",
       "\n",
       "    .dataframe thead th {\n",
       "        text-align: right;\n",
       "    }\n",
       "</style>\n",
       "<table border=\"1\" class=\"dataframe\">\n",
       "  <thead>\n",
       "    <tr style=\"text-align: right;\">\n",
       "      <th></th>\n",
       "      <th>1</th>\n",
       "      <th>2</th>\n",
       "      <th>3</th>\n",
       "    </tr>\n",
       "  </thead>\n",
       "  <tbody>\n",
       "    <tr>\n",
       "      <th>0</th>\n",
       "      <td>inder</td>\n",
       "      <td>preet</td>\n",
       "      <td>preety</td>\n",
       "    </tr>\n",
       "    <tr>\n",
       "      <th>1</th>\n",
       "      <td>28</td>\n",
       "      <td>25</td>\n",
       "      <td>20</td>\n",
       "    </tr>\n",
       "    <tr>\n",
       "      <th>2</th>\n",
       "      <td>netmax</td>\n",
       "      <td>dev</td>\n",
       "      <td>data</td>\n",
       "    </tr>\n",
       "    <tr>\n",
       "      <th>3</th>\n",
       "      <td>63.5</td>\n",
       "      <td>65.8</td>\n",
       "      <td>73.1</td>\n",
       "    </tr>\n",
       "  </tbody>\n",
       "</table>\n",
       "</div>"
      ],
      "text/plain": [
       "        1      2       3\n",
       "0   inder  preet  preety\n",
       "1      28     25      20\n",
       "2  netmax    dev    data\n",
       "3    63.5   65.8    73.1"
      ]
     },
     "execution_count": 56,
     "metadata": {},
     "output_type": "execute_result"
    }
   ],
   "source": [
    "pd.DataFrame(d)"
   ]
  },
  {
   "cell_type": "code",
   "execution_count": 59,
   "id": "d0ba1962-1487-4ded-a07d-b56d991b0dd1",
   "metadata": {},
   "outputs": [],
   "source": [
    "d = {\n",
    "    \"name\":[\"inder\" , \"preet\", \"preety\"],\n",
    "    \"age\":[20 , 25 , 27 ],\n",
    "    \"weights\":[56.5,65, 73.1]\n",
    "\n",
    "}"
   ]
  },
  {
   "cell_type": "code",
   "execution_count": 60,
   "id": "8b8d1607-ebb2-4817-8fff-affad7253da6",
   "metadata": {},
   "outputs": [
    {
     "data": {
      "text/html": [
       "<div>\n",
       "<style scoped>\n",
       "    .dataframe tbody tr th:only-of-type {\n",
       "        vertical-align: middle;\n",
       "    }\n",
       "\n",
       "    .dataframe tbody tr th {\n",
       "        vertical-align: top;\n",
       "    }\n",
       "\n",
       "    .dataframe thead th {\n",
       "        text-align: right;\n",
       "    }\n",
       "</style>\n",
       "<table border=\"1\" class=\"dataframe\">\n",
       "  <thead>\n",
       "    <tr style=\"text-align: right;\">\n",
       "      <th></th>\n",
       "      <th>name</th>\n",
       "      <th>age</th>\n",
       "      <th>weights</th>\n",
       "    </tr>\n",
       "  </thead>\n",
       "  <tbody>\n",
       "    <tr>\n",
       "      <th>0</th>\n",
       "      <td>inder</td>\n",
       "      <td>20</td>\n",
       "      <td>56.5</td>\n",
       "    </tr>\n",
       "    <tr>\n",
       "      <th>1</th>\n",
       "      <td>preet</td>\n",
       "      <td>25</td>\n",
       "      <td>65.0</td>\n",
       "    </tr>\n",
       "    <tr>\n",
       "      <th>2</th>\n",
       "      <td>preety</td>\n",
       "      <td>27</td>\n",
       "      <td>73.1</td>\n",
       "    </tr>\n",
       "  </tbody>\n",
       "</table>\n",
       "</div>"
      ],
      "text/plain": [
       "     name  age  weights\n",
       "0   inder   20     56.5\n",
       "1   preet   25     65.0\n",
       "2  preety   27     73.1"
      ]
     },
     "execution_count": 60,
     "metadata": {},
     "output_type": "execute_result"
    }
   ],
   "source": [
    "pd.DataFrame(d)"
   ]
  },
  {
   "cell_type": "code",
   "execution_count": 61,
   "id": "3d7e71c5-9f40-43c9-9750-25c1fb7f7c77",
   "metadata": {},
   "outputs": [
    {
     "data": {
      "text/html": [
       "<div>\n",
       "<style scoped>\n",
       "    .dataframe tbody tr th:only-of-type {\n",
       "        vertical-align: middle;\n",
       "    }\n",
       "\n",
       "    .dataframe tbody tr th {\n",
       "        vertical-align: top;\n",
       "    }\n",
       "\n",
       "    .dataframe thead th {\n",
       "        text-align: right;\n",
       "    }\n",
       "</style>\n",
       "<table border=\"1\" class=\"dataframe\">\n",
       "  <thead>\n",
       "    <tr style=\"text-align: right;\">\n",
       "      <th></th>\n",
       "      <th>name</th>\n",
       "      <th>age</th>\n",
       "      <th>weights</th>\n",
       "    </tr>\n",
       "  </thead>\n",
       "  <tbody>\n",
       "    <tr>\n",
       "      <th>1</th>\n",
       "      <td>inder</td>\n",
       "      <td>20</td>\n",
       "      <td>56.5</td>\n",
       "    </tr>\n",
       "    <tr>\n",
       "      <th>2</th>\n",
       "      <td>preet</td>\n",
       "      <td>25</td>\n",
       "      <td>65.0</td>\n",
       "    </tr>\n",
       "    <tr>\n",
       "      <th>3</th>\n",
       "      <td>preety</td>\n",
       "      <td>27</td>\n",
       "      <td>73.1</td>\n",
       "    </tr>\n",
       "  </tbody>\n",
       "</table>\n",
       "</div>"
      ],
      "text/plain": [
       "     name  age  weights\n",
       "1   inder   20     56.5\n",
       "2   preet   25     65.0\n",
       "3  preety   27     73.1"
      ]
     },
     "execution_count": 61,
     "metadata": {},
     "output_type": "execute_result"
    }
   ],
   "source": [
    "pd.DataFrame(d , index=range(1,4))"
   ]
  },
  {
   "cell_type": "code",
   "execution_count": 63,
   "id": "947d698b-dbe6-4670-b866-2e99a851b61f",
   "metadata": {},
   "outputs": [
    {
     "data": {
      "text/html": [
       "<div>\n",
       "<style scoped>\n",
       "    .dataframe tbody tr th:only-of-type {\n",
       "        vertical-align: middle;\n",
       "    }\n",
       "\n",
       "    .dataframe tbody tr th {\n",
       "        vertical-align: top;\n",
       "    }\n",
       "\n",
       "    .dataframe thead th {\n",
       "        text-align: right;\n",
       "    }\n",
       "</style>\n",
       "<table border=\"1\" class=\"dataframe\">\n",
       "  <thead>\n",
       "    <tr style=\"text-align: right;\">\n",
       "      <th></th>\n",
       "      <th>name</th>\n",
       "      <th>age</th>\n",
       "      <th>weights</th>\n",
       "    </tr>\n",
       "  </thead>\n",
       "  <tbody>\n",
       "    <tr>\n",
       "      <th>100</th>\n",
       "      <td>inder</td>\n",
       "      <td>20</td>\n",
       "      <td>56.5</td>\n",
       "    </tr>\n",
       "    <tr>\n",
       "      <th>101</th>\n",
       "      <td>preet</td>\n",
       "      <td>25</td>\n",
       "      <td>65.0</td>\n",
       "    </tr>\n",
       "    <tr>\n",
       "      <th>102</th>\n",
       "      <td>preety</td>\n",
       "      <td>27</td>\n",
       "      <td>73.1</td>\n",
       "    </tr>\n",
       "  </tbody>\n",
       "</table>\n",
       "</div>"
      ],
      "text/plain": [
       "       name  age  weights\n",
       "100   inder   20     56.5\n",
       "101   preet   25     65.0\n",
       "102  preety   27     73.1"
      ]
     },
     "execution_count": 63,
     "metadata": {},
     "output_type": "execute_result"
    }
   ],
   "source": [
    "pd.DataFrame(d , index=range(100,103))"
   ]
  },
  {
   "cell_type": "markdown",
   "id": "3902af47-4ee2-414c-98d5-35a074f64422",
   "metadata": {},
   "source": [
    "## Reading Files"
   ]
  },
  {
   "cell_type": "code",
   "execution_count": null,
   "id": "7342f2ea-887b-4874-8ce4-56ab1713e74f",
   "metadata": {},
   "outputs": [],
   "source": []
  }
 ],
 "metadata": {
  "kernelspec": {
   "display_name": "Python [conda env:base] *",
   "language": "python",
   "name": "conda-base-py"
  },
  "language_info": {
   "codemirror_mode": {
    "name": "ipython",
    "version": 3
   },
   "file_extension": ".py",
   "mimetype": "text/x-python",
   "name": "python",
   "nbconvert_exporter": "python",
   "pygments_lexer": "ipython3",
   "version": "3.13.5"
  }
 },
 "nbformat": 4,
 "nbformat_minor": 5
}
