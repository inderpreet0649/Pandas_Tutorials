{
 "cells": [
  {
   "cell_type": "markdown",
   "id": "52630c8e-6628-401f-bd5f-e0ea1d0a83e4",
   "metadata": {},
   "source": [
    "# Pandas "
   ]
  },
  {
   "cell_type": "markdown",
   "id": "ae64e90d-3158-4095-af12-79728e3cfa7c",
   "metadata": {},
   "source": [
    "## Library to work with table data ....Series - Row or Column"
   ]
  },
  {
   "cell_type": "code",
   "execution_count": 1,
   "id": "3c510123-e90b-414c-9a93-f64e74d40883",
   "metadata": {},
   "outputs": [],
   "source": [
    "# A Pandas Series is a one-dimensional, labeled array capable of holding data of any type (integers, floats, strings, etc.). \n",
    "#It’s like a column in a spreadsheet or a NumPy array with an index for labeling each element."
   ]
  },
  {
   "cell_type": "code",
   "execution_count": 1,
   "id": "3e9a4df1-10b3-4a20-bcbb-28db83150afa",
   "metadata": {},
   "outputs": [
    {
     "name": "stdout",
     "output_type": "stream",
     "text": [
      "Requirement already satisfied: pandas in c:\\users\\inder\\anaconda3\\lib\\site-packages (2.2.3)\n",
      "Requirement already satisfied: numpy>=1.26.0 in c:\\users\\inder\\anaconda3\\lib\\site-packages (from pandas) (2.1.3)\n",
      "Requirement already satisfied: python-dateutil>=2.8.2 in c:\\users\\inder\\anaconda3\\lib\\site-packages (from pandas) (2.9.0.post0)\n",
      "Requirement already satisfied: pytz>=2020.1 in c:\\users\\inder\\anaconda3\\lib\\site-packages (from pandas) (2024.1)\n",
      "Requirement already satisfied: tzdata>=2022.7 in c:\\users\\inder\\anaconda3\\lib\\site-packages (from pandas) (2025.2)\n",
      "Requirement already satisfied: six>=1.5 in c:\\users\\inder\\anaconda3\\lib\\site-packages (from python-dateutil>=2.8.2->pandas) (1.17.0)\n",
      "Note: you may need to restart the kernel to use updated packages.\n"
     ]
    }
   ],
   "source": [
    "pip install pandas"
   ]
  },
  {
   "cell_type": "code",
   "execution_count": 2,
   "id": "d5215903-b026-4dd4-8f4e-54887ddba1e5",
   "metadata": {},
   "outputs": [],
   "source": [
    "li = ['inder' , 'preet' ,'preety']"
   ]
  },
  {
   "cell_type": "code",
   "execution_count": 4,
   "id": "5d0c7671-109d-4aba-9b00-1bf4f89d3311",
   "metadata": {},
   "outputs": [],
   "source": [
    "import numpy as np\n",
    "import pandas as pd"
   ]
  },
  {
   "cell_type": "code",
   "execution_count": 5,
   "id": "a970cc15-983f-42d8-ab3a-3aecb0554485",
   "metadata": {},
   "outputs": [],
   "source": [
    "# apne har bar 2-3 cheeje import karvani hi hai chahe uska istemal ho ya naa ho...vase numpy pandas k sath aata hi hai normally"
   ]
  },
  {
   "cell_type": "markdown",
   "id": "c872af63-8999-402d-8563-2af1b06b6acf",
   "metadata": {},
   "source": [
    "## Series"
   ]
  },
  {
   "cell_type": "code",
   "execution_count": 8,
   "id": "e2c2b4bf-394d-45ec-a104-511c91af35b2",
   "metadata": {},
   "outputs": [],
   "source": [
    "#series sbse basic hai...sbse pehla question banta hai\n",
    "#series ka matlab ek k sath ek continue data types"
   ]
  },
  {
   "cell_type": "code",
   "execution_count": 9,
   "id": "6b866bad-a3d8-4a7a-a5b1-c28630d53daa",
   "metadata": {},
   "outputs": [],
   "source": [
    "a = pd.Series([li])"
   ]
  },
  {
   "cell_type": "code",
   "execution_count": 10,
   "id": "a9e3a36d-2430-4221-b31b-93b54fdc1d54",
   "metadata": {},
   "outputs": [
    {
     "data": {
      "text/plain": [
       "0    [inder, preet, preety]\n",
       "dtype: object"
      ]
     },
     "execution_count": 10,
     "metadata": {},
     "output_type": "execute_result"
    }
   ],
   "source": [
    "a"
   ]
  },
  {
   "cell_type": "code",
   "execution_count": 12,
   "id": "c7270073-6519-4340-ba63-b69d6f148faf",
   "metadata": {},
   "outputs": [],
   "source": [
    "b = pd.Series(li)"
   ]
  },
  {
   "cell_type": "code",
   "execution_count": 13,
   "id": "c60345bc-689b-41ee-beb7-73d19bea30a8",
   "metadata": {},
   "outputs": [
    {
     "data": {
      "text/plain": [
       "0     inder\n",
       "1     preet\n",
       "2    preety\n",
       "dtype: object"
      ]
     },
     "execution_count": 13,
     "metadata": {},
     "output_type": "execute_result"
    }
   ],
   "source": [
    "b"
   ]
  },
  {
   "cell_type": "code",
   "execution_count": 14,
   "id": "ca595057-7223-437c-8f0f-009ee2a80af8",
   "metadata": {},
   "outputs": [],
   "source": [
    "c = pd.Series(li , index =[\"A\" , \"B\",\"C\"] , name =\"Name\")"
   ]
  },
  {
   "cell_type": "code",
   "execution_count": 16,
   "id": "ef6f0fe3-5891-497d-8fa3-dd8df191d3fc",
   "metadata": {},
   "outputs": [
    {
     "data": {
      "text/plain": [
       "A     inder\n",
       "B     preet\n",
       "C    preety\n",
       "Name: Name, dtype: object"
      ]
     },
     "execution_count": 16,
     "metadata": {},
     "output_type": "execute_result"
    }
   ],
   "source": [
    "c"
   ]
  },
  {
   "cell_type": "code",
   "execution_count": 17,
   "id": "71ef751f-d5ce-4f87-b0d5-6ab2c03d3249",
   "metadata": {},
   "outputs": [],
   "source": [
    "d = pd.Series([\"Math\" , \"Science\" , \"English\"])"
   ]
  },
  {
   "cell_type": "code",
   "execution_count": 19,
   "id": "697ac563-4201-4b83-9caa-9bacea67cae2",
   "metadata": {},
   "outputs": [
    {
     "data": {
      "text/plain": [
       "0       Math\n",
       "1    Science\n",
       "2    English\n",
       "dtype: object"
      ]
     },
     "execution_count": 19,
     "metadata": {},
     "output_type": "execute_result"
    }
   ],
   "source": [
    "#by default indexing 0,1,2\n",
    "d"
   ]
  },
  {
   "cell_type": "code",
   "execution_count": 20,
   "id": "4e365f1f-e43d-47d2-9b82-cb9875237b75",
   "metadata": {},
   "outputs": [
    {
     "data": {
      "text/plain": [
       "'Science'"
      ]
     },
     "execution_count": 20,
     "metadata": {},
     "output_type": "execute_result"
    }
   ],
   "source": [
    "d[1]"
   ]
  },
  {
   "cell_type": "code",
   "execution_count": 25,
   "id": "e4655c4f-ed4c-4149-8c90-722d892c29a6",
   "metadata": {},
   "outputs": [],
   "source": [
    "#we named it by ourself yhi khasiyat hai pandas ki\n",
    "\n",
    "d = pd.Series([\"Math\" , \"Science\" , \"English\"] , index = [\"A\",\"B\",\"C\"])"
   ]
  },
  {
   "cell_type": "code",
   "execution_count": 22,
   "id": "4a37500e-a3da-48e0-91ac-5a37dea059ed",
   "metadata": {},
   "outputs": [
    {
     "data": {
      "text/plain": [
       "A       Math\n",
       "B    Science\n",
       "C    English\n",
       "dtype: object"
      ]
     },
     "execution_count": 22,
     "metadata": {},
     "output_type": "execute_result"
    }
   ],
   "source": [
    "d"
   ]
  },
  {
   "cell_type": "code",
   "execution_count": 24,
   "id": "7bb6bdac-d3cb-433e-a941-7650c046ba97",
   "metadata": {},
   "outputs": [
    {
     "data": {
      "text/plain": [
       "'Math'"
      ]
     },
     "execution_count": 24,
     "metadata": {},
     "output_type": "execute_result"
    }
   ],
   "source": [
    "d[\"A\"]"
   ]
  },
  {
   "cell_type": "code",
   "execution_count": 28,
   "id": "9a3b1e96-53a6-41b4-942c-7b142062d9d4",
   "metadata": {},
   "outputs": [],
   "source": [
    "d = pd.Series([\"Math\" , \"Science\" , \"English\"] , index = \"A B C\".split() , name = \"Inder\")"
   ]
  },
  {
   "cell_type": "code",
   "execution_count": 29,
   "id": "fac53a8e-176c-4841-a08c-bf67184eb372",
   "metadata": {},
   "outputs": [
    {
     "data": {
      "text/plain": [
       "A       Math\n",
       "B    Science\n",
       "C    English\n",
       "Name: Inder, dtype: object"
      ]
     },
     "execution_count": 29,
     "metadata": {},
     "output_type": "execute_result"
    }
   ],
   "source": [
    "d"
   ]
  },
  {
   "cell_type": "code",
   "execution_count": 31,
   "id": "08141a2a-137b-4be8-a699-8858b954c7b9",
   "metadata": {},
   "outputs": [
    {
     "data": {
      "text/plain": [
       "'English'"
      ]
     },
     "execution_count": 31,
     "metadata": {},
     "output_type": "execute_result"
    }
   ],
   "source": [
    "d[\"C\"]"
   ]
  },
  {
   "cell_type": "markdown",
   "id": "c077d0de-e0b4-4324-98c7-797304b2ca69",
   "metadata": {},
   "source": [
    "## Series with dictionary"
   ]
  },
  {
   "cell_type": "code",
   "execution_count": 32,
   "id": "5eb08bb5-d7cd-4754-b11d-2815e1ca0697",
   "metadata": {},
   "outputs": [],
   "source": [
    "d ={\"city\":[\"delhi\" , \"chd\" , \"agra\"]}"
   ]
  },
  {
   "cell_type": "code",
   "execution_count": 33,
   "id": "381be508-9ecf-4c0c-a1dc-667fbb77795c",
   "metadata": {},
   "outputs": [
    {
     "data": {
      "text/plain": [
       "city    [delhi, chd, agra]\n",
       "dtype: object"
      ]
     },
     "execution_count": 33,
     "metadata": {},
     "output_type": "execute_result"
    }
   ],
   "source": [
    "pd.Series(d)"
   ]
  },
  {
   "cell_type": "code",
   "execution_count": 34,
   "id": "8a72c2c9-746c-43e4-a350-55ea9e551aa8",
   "metadata": {},
   "outputs": [
    {
     "data": {
      "text/plain": [
       "0    delhi\n",
       "1      chd\n",
       "2     agra\n",
       "dtype: object"
      ]
     },
     "execution_count": 34,
     "metadata": {},
     "output_type": "execute_result"
    }
   ],
   "source": [
    "pd.Series(d[\"city\"])"
   ]
  },
  {
   "cell_type": "markdown",
   "id": "f9873b86-5a1c-412d-b22d-d755ca7bd677",
   "metadata": {},
   "source": [
    "## Attributes and Methods"
   ]
  },
  {
   "cell_type": "code",
   "execution_count": 42,
   "id": "7c5ab12f-64df-46cd-9a82-3094722697c6",
   "metadata": {},
   "outputs": [
    {
     "data": {
      "text/plain": [
       "0     inder\n",
       "1     preet\n",
       "2    preety\n",
       "dtype: object"
      ]
     },
     "execution_count": 42,
     "metadata": {},
     "output_type": "execute_result"
    }
   ],
   "source": [
    "#datatype is object\n",
    "b"
   ]
  },
  {
   "cell_type": "code",
   "execution_count": 43,
   "id": "14fa9db6-ca47-4479-bfad-ebc6ea2d6462",
   "metadata": {},
   "outputs": [],
   "source": [
    "#datatype is integer\n",
    "e = pd.Series([50,20,60],index =\"A B C\".split() , name = \"Marks\")"
   ]
  },
  {
   "cell_type": "code",
   "execution_count": 44,
   "id": "7f81248d-0f8c-44dd-8258-0032ce989fe6",
   "metadata": {},
   "outputs": [
    {
     "data": {
      "text/plain": [
       "A    50\n",
       "B    20\n",
       "C    60\n",
       "Name: Marks, dtype: int64"
      ]
     },
     "execution_count": 44,
     "metadata": {},
     "output_type": "execute_result"
    }
   ],
   "source": [
    "e"
   ]
  },
  {
   "cell_type": "code",
   "execution_count": 45,
   "id": "6dc933d5-aeb3-4ab0-9b05-88aff588f092",
   "metadata": {},
   "outputs": [],
   "source": [
    "##datatype is float type\n",
    "f =  pd.Series([5.5,2.4,6.9],index =\"A B C\".split() , name = \"inputs\")"
   ]
  },
  {
   "cell_type": "code",
   "execution_count": 46,
   "id": "c4672778-93c6-47a2-839d-030a4b9a823d",
   "metadata": {},
   "outputs": [
    {
     "data": {
      "text/plain": [
       "A    5.5\n",
       "B    2.4\n",
       "C    6.9\n",
       "Name: inputs, dtype: float64"
      ]
     },
     "execution_count": 46,
     "metadata": {},
     "output_type": "execute_result"
    }
   ],
   "source": [
    "f"
   ]
  },
  {
   "cell_type": "code",
   "execution_count": 49,
   "id": "21de675f-75fd-4bb5-a764-027fe8fb70c1",
   "metadata": {},
   "outputs": [],
   "source": [
    "#data type is boolean\n",
    "g =  pd.Series([True , False],index =\"A B \".split() , name = \"inputs\")"
   ]
  },
  {
   "cell_type": "code",
   "execution_count": 50,
   "id": "7d8e4c49-92b9-4a7f-a524-a414aef40b17",
   "metadata": {},
   "outputs": [
    {
     "data": {
      "text/plain": [
       "A     True\n",
       "B    False\n",
       "Name: inputs, dtype: bool"
      ]
     },
     "execution_count": 50,
     "metadata": {},
     "output_type": "execute_result"
    }
   ],
   "source": [
    "g"
   ]
  },
  {
   "cell_type": "code",
   "execution_count": 51,
   "id": "c50b766f-0b5e-4285-8da7-100fb6661705",
   "metadata": {},
   "outputs": [
    {
     "data": {
      "text/plain": [
       "array([5.5, 2.4, 6.9])"
      ]
     },
     "execution_count": 51,
     "metadata": {},
     "output_type": "execute_result"
    }
   ],
   "source": [
    "f.values"
   ]
  },
  {
   "cell_type": "code",
   "execution_count": 52,
   "id": "35082705-1122-4966-b728-b02a7743eda3",
   "metadata": {},
   "outputs": [
    {
     "data": {
      "text/plain": [
       "Index(['A', 'B', 'C'], dtype='object')"
      ]
     },
     "execution_count": 52,
     "metadata": {},
     "output_type": "execute_result"
    }
   ],
   "source": [
    "f.index"
   ]
  },
  {
   "cell_type": "code",
   "execution_count": 53,
   "id": "975d0899-e2b6-462d-9da4-66a5640176cf",
   "metadata": {},
   "outputs": [
    {
     "data": {
      "text/plain": [
       "dtype('float64')"
      ]
     },
     "execution_count": 53,
     "metadata": {},
     "output_type": "execute_result"
    }
   ],
   "source": [
    "f.dtype"
   ]
  },
  {
   "cell_type": "code",
   "execution_count": 54,
   "id": "b7f09071-3f33-47cb-bfd4-cee0184454b0",
   "metadata": {},
   "outputs": [
    {
     "data": {
      "text/plain": [
       "<bound method Series.count of A    5.5\n",
       "B    2.4\n",
       "C    6.9\n",
       "Name: inputs, dtype: float64>"
      ]
     },
     "execution_count": 54,
     "metadata": {},
     "output_type": "execute_result"
    }
   ],
   "source": [
    "f.count"
   ]
  },
  {
   "cell_type": "code",
   "execution_count": 55,
   "id": "97d1e423-0573-4b15-acb4-017c9daff804",
   "metadata": {},
   "outputs": [
    {
     "data": {
      "text/plain": [
       "np.int64(3)"
      ]
     },
     "execution_count": 55,
     "metadata": {},
     "output_type": "execute_result"
    }
   ],
   "source": [
    "f.count()"
   ]
  },
  {
   "cell_type": "code",
   "execution_count": 57,
   "id": "fd38e8b7-da7c-44e3-b953-a1f74edda1ad",
   "metadata": {},
   "outputs": [
    {
     "data": {
      "text/plain": [
       "np.float64(14.8)"
      ]
     },
     "execution_count": 57,
     "metadata": {},
     "output_type": "execute_result"
    }
   ],
   "source": [
    "f.sum()"
   ]
  },
  {
   "cell_type": "code",
   "execution_count": 58,
   "id": "e005822a-4aa9-4132-b623-bb8e5b82ac99",
   "metadata": {},
   "outputs": [
    {
     "data": {
      "text/plain": [
       "6.9"
      ]
     },
     "execution_count": 58,
     "metadata": {},
     "output_type": "execute_result"
    }
   ],
   "source": [
    "f.max()"
   ]
  },
  {
   "cell_type": "code",
   "execution_count": 59,
   "id": "195accb1-f739-4ca0-8bc7-aa3fc8102716",
   "metadata": {},
   "outputs": [
    {
     "data": {
      "text/plain": [
       "2.4"
      ]
     },
     "execution_count": 59,
     "metadata": {},
     "output_type": "execute_result"
    }
   ],
   "source": [
    "f.min()"
   ]
  },
  {
   "cell_type": "code",
   "execution_count": 61,
   "id": "f7d0728d-2a2b-485f-b9a5-4a152933d955",
   "metadata": {},
   "outputs": [
    {
     "data": {
      "text/plain": [
       "(3,)"
      ]
     },
     "execution_count": 61,
     "metadata": {},
     "output_type": "execute_result"
    }
   ],
   "source": [
    "f.shape"
   ]
  },
  {
   "cell_type": "code",
   "execution_count": 62,
   "id": "467854fd-6ad7-4f74-bc50-b6e578f66f61",
   "metadata": {},
   "outputs": [
    {
     "data": {
      "text/plain": [
       "3"
      ]
     },
     "execution_count": 62,
     "metadata": {},
     "output_type": "execute_result"
    }
   ],
   "source": [
    "f.size"
   ]
  },
  {
   "cell_type": "code",
   "execution_count": 64,
   "id": "f3f5f1ce-4ad5-4047-876a-794b0772f4f8",
   "metadata": {},
   "outputs": [
    {
     "data": {
      "text/plain": [
       "A    10.5\n",
       "B     7.4\n",
       "C    11.9\n",
       "Name: inputs, dtype: float64"
      ]
     },
     "execution_count": 64,
     "metadata": {},
     "output_type": "execute_result"
    }
   ],
   "source": [
    "#broadcasting\n",
    "f + 5"
   ]
  },
  {
   "cell_type": "code",
   "execution_count": 65,
   "id": "afb099ab-598b-422e-9773-82af28041b39",
   "metadata": {},
   "outputs": [
    {
     "data": {
      "text/plain": [
       "A    11.0\n",
       "B     4.8\n",
       "C    13.8\n",
       "Name: inputs, dtype: float64"
      ]
     },
     "execution_count": 65,
     "metadata": {},
     "output_type": "execute_result"
    }
   ],
   "source": [
    "f*2"
   ]
  },
  {
   "cell_type": "code",
   "execution_count": null,
   "id": "c9fa93fe-c1a4-4b6a-a6d4-a0ab078f2dcc",
   "metadata": {},
   "outputs": [],
   "source": []
  }
 ],
 "metadata": {
  "kernelspec": {
   "display_name": "Python [conda env:base] *",
   "language": "python",
   "name": "conda-base-py"
  },
  "language_info": {
   "codemirror_mode": {
    "name": "ipython",
    "version": 3
   },
   "file_extension": ".py",
   "mimetype": "text/x-python",
   "name": "python",
   "nbconvert_exporter": "python",
   "pygments_lexer": "ipython3",
   "version": "3.13.5"
  }
 },
 "nbformat": 4,
 "nbformat_minor": 5
}
