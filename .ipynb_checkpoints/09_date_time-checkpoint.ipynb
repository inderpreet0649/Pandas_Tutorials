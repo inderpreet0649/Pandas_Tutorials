{
 "cells": [
  {
   "cell_type": "code",
   "execution_count": 1,
   "id": "676c71d5-0fff-4475-a07f-2c4f6d06b68c",
   "metadata": {},
   "outputs": [],
   "source": [
    "import numpy as np\n",
    "import pandas as pd\n",
    "import matplotlib.pyplot as plt\n",
    "import seaborn as sns"
   ]
  },
  {
   "cell_type": "code",
   "execution_count": 4,
   "id": "47d7b1f4-a145-4026-b284-22a3e074e098",
   "metadata": {},
   "outputs": [],
   "source": [
    "df =sns.load_dataset('taxis')"
   ]
  },
  {
   "cell_type": "code",
   "execution_count": 6,
   "id": "88e49430-78f6-4f37-8fde-82d96af1e9bd",
   "metadata": {},
   "outputs": [
    {
     "data": {
      "text/html": [
       "<div>\n",
       "<style scoped>\n",
       "    .dataframe tbody tr th:only-of-type {\n",
       "        vertical-align: middle;\n",
       "    }\n",
       "\n",
       "    .dataframe tbody tr th {\n",
       "        vertical-align: top;\n",
       "    }\n",
       "\n",
       "    .dataframe thead th {\n",
       "        text-align: right;\n",
       "    }\n",
       "</style>\n",
       "<table border=\"1\" class=\"dataframe\">\n",
       "  <thead>\n",
       "    <tr style=\"text-align: right;\">\n",
       "      <th></th>\n",
       "      <th>pickup</th>\n",
       "      <th>dropoff</th>\n",
       "      <th>passengers</th>\n",
       "      <th>distance</th>\n",
       "      <th>fare</th>\n",
       "      <th>tip</th>\n",
       "      <th>tolls</th>\n",
       "      <th>total</th>\n",
       "      <th>color</th>\n",
       "      <th>payment</th>\n",
       "      <th>pickup_zone</th>\n",
       "      <th>dropoff_zone</th>\n",
       "      <th>pickup_borough</th>\n",
       "      <th>dropoff_borough</th>\n",
       "    </tr>\n",
       "  </thead>\n",
       "  <tbody>\n",
       "    <tr>\n",
       "      <th>0</th>\n",
       "      <td>2019-03-23 20:21:09</td>\n",
       "      <td>2019-03-23 20:27:24</td>\n",
       "      <td>1</td>\n",
       "      <td>1.60</td>\n",
       "      <td>7.0</td>\n",
       "      <td>2.15</td>\n",
       "      <td>0.0</td>\n",
       "      <td>12.95</td>\n",
       "      <td>yellow</td>\n",
       "      <td>credit card</td>\n",
       "      <td>Lenox Hill West</td>\n",
       "      <td>UN/Turtle Bay South</td>\n",
       "      <td>Manhattan</td>\n",
       "      <td>Manhattan</td>\n",
       "    </tr>\n",
       "    <tr>\n",
       "      <th>1</th>\n",
       "      <td>2019-03-04 16:11:55</td>\n",
       "      <td>2019-03-04 16:19:00</td>\n",
       "      <td>1</td>\n",
       "      <td>0.79</td>\n",
       "      <td>5.0</td>\n",
       "      <td>0.00</td>\n",
       "      <td>0.0</td>\n",
       "      <td>9.30</td>\n",
       "      <td>yellow</td>\n",
       "      <td>cash</td>\n",
       "      <td>Upper West Side South</td>\n",
       "      <td>Upper West Side South</td>\n",
       "      <td>Manhattan</td>\n",
       "      <td>Manhattan</td>\n",
       "    </tr>\n",
       "    <tr>\n",
       "      <th>2</th>\n",
       "      <td>2019-03-27 17:53:01</td>\n",
       "      <td>2019-03-27 18:00:25</td>\n",
       "      <td>1</td>\n",
       "      <td>1.37</td>\n",
       "      <td>7.5</td>\n",
       "      <td>2.36</td>\n",
       "      <td>0.0</td>\n",
       "      <td>14.16</td>\n",
       "      <td>yellow</td>\n",
       "      <td>credit card</td>\n",
       "      <td>Alphabet City</td>\n",
       "      <td>West Village</td>\n",
       "      <td>Manhattan</td>\n",
       "      <td>Manhattan</td>\n",
       "    </tr>\n",
       "    <tr>\n",
       "      <th>3</th>\n",
       "      <td>2019-03-10 01:23:59</td>\n",
       "      <td>2019-03-10 01:49:51</td>\n",
       "      <td>1</td>\n",
       "      <td>7.70</td>\n",
       "      <td>27.0</td>\n",
       "      <td>6.15</td>\n",
       "      <td>0.0</td>\n",
       "      <td>36.95</td>\n",
       "      <td>yellow</td>\n",
       "      <td>credit card</td>\n",
       "      <td>Hudson Sq</td>\n",
       "      <td>Yorkville West</td>\n",
       "      <td>Manhattan</td>\n",
       "      <td>Manhattan</td>\n",
       "    </tr>\n",
       "    <tr>\n",
       "      <th>4</th>\n",
       "      <td>2019-03-30 13:27:42</td>\n",
       "      <td>2019-03-30 13:37:14</td>\n",
       "      <td>3</td>\n",
       "      <td>2.16</td>\n",
       "      <td>9.0</td>\n",
       "      <td>1.10</td>\n",
       "      <td>0.0</td>\n",
       "      <td>13.40</td>\n",
       "      <td>yellow</td>\n",
       "      <td>credit card</td>\n",
       "      <td>Midtown East</td>\n",
       "      <td>Yorkville West</td>\n",
       "      <td>Manhattan</td>\n",
       "      <td>Manhattan</td>\n",
       "    </tr>\n",
       "    <tr>\n",
       "      <th>...</th>\n",
       "      <td>...</td>\n",
       "      <td>...</td>\n",
       "      <td>...</td>\n",
       "      <td>...</td>\n",
       "      <td>...</td>\n",
       "      <td>...</td>\n",
       "      <td>...</td>\n",
       "      <td>...</td>\n",
       "      <td>...</td>\n",
       "      <td>...</td>\n",
       "      <td>...</td>\n",
       "      <td>...</td>\n",
       "      <td>...</td>\n",
       "      <td>...</td>\n",
       "    </tr>\n",
       "    <tr>\n",
       "      <th>6428</th>\n",
       "      <td>2019-03-31 09:51:53</td>\n",
       "      <td>2019-03-31 09:55:27</td>\n",
       "      <td>1</td>\n",
       "      <td>0.75</td>\n",
       "      <td>4.5</td>\n",
       "      <td>1.06</td>\n",
       "      <td>0.0</td>\n",
       "      <td>6.36</td>\n",
       "      <td>green</td>\n",
       "      <td>credit card</td>\n",
       "      <td>East Harlem North</td>\n",
       "      <td>Central Harlem North</td>\n",
       "      <td>Manhattan</td>\n",
       "      <td>Manhattan</td>\n",
       "    </tr>\n",
       "    <tr>\n",
       "      <th>6429</th>\n",
       "      <td>2019-03-31 17:38:00</td>\n",
       "      <td>2019-03-31 18:34:23</td>\n",
       "      <td>1</td>\n",
       "      <td>18.74</td>\n",
       "      <td>58.0</td>\n",
       "      <td>0.00</td>\n",
       "      <td>0.0</td>\n",
       "      <td>58.80</td>\n",
       "      <td>green</td>\n",
       "      <td>credit card</td>\n",
       "      <td>Jamaica</td>\n",
       "      <td>East Concourse/Concourse Village</td>\n",
       "      <td>Queens</td>\n",
       "      <td>Bronx</td>\n",
       "    </tr>\n",
       "    <tr>\n",
       "      <th>6430</th>\n",
       "      <td>2019-03-23 22:55:18</td>\n",
       "      <td>2019-03-23 23:14:25</td>\n",
       "      <td>1</td>\n",
       "      <td>4.14</td>\n",
       "      <td>16.0</td>\n",
       "      <td>0.00</td>\n",
       "      <td>0.0</td>\n",
       "      <td>17.30</td>\n",
       "      <td>green</td>\n",
       "      <td>cash</td>\n",
       "      <td>Crown Heights North</td>\n",
       "      <td>Bushwick North</td>\n",
       "      <td>Brooklyn</td>\n",
       "      <td>Brooklyn</td>\n",
       "    </tr>\n",
       "    <tr>\n",
       "      <th>6431</th>\n",
       "      <td>2019-03-04 10:09:25</td>\n",
       "      <td>2019-03-04 10:14:29</td>\n",
       "      <td>1</td>\n",
       "      <td>1.12</td>\n",
       "      <td>6.0</td>\n",
       "      <td>0.00</td>\n",
       "      <td>0.0</td>\n",
       "      <td>6.80</td>\n",
       "      <td>green</td>\n",
       "      <td>credit card</td>\n",
       "      <td>East New York</td>\n",
       "      <td>East Flatbush/Remsen Village</td>\n",
       "      <td>Brooklyn</td>\n",
       "      <td>Brooklyn</td>\n",
       "    </tr>\n",
       "    <tr>\n",
       "      <th>6432</th>\n",
       "      <td>2019-03-13 19:31:22</td>\n",
       "      <td>2019-03-13 19:48:02</td>\n",
       "      <td>1</td>\n",
       "      <td>3.85</td>\n",
       "      <td>15.0</td>\n",
       "      <td>3.36</td>\n",
       "      <td>0.0</td>\n",
       "      <td>20.16</td>\n",
       "      <td>green</td>\n",
       "      <td>credit card</td>\n",
       "      <td>Boerum Hill</td>\n",
       "      <td>Windsor Terrace</td>\n",
       "      <td>Brooklyn</td>\n",
       "      <td>Brooklyn</td>\n",
       "    </tr>\n",
       "  </tbody>\n",
       "</table>\n",
       "<p>6433 rows × 14 columns</p>\n",
       "</div>"
      ],
      "text/plain": [
       "                  pickup             dropoff  passengers  distance  fare  \\\n",
       "0    2019-03-23 20:21:09 2019-03-23 20:27:24           1      1.60   7.0   \n",
       "1    2019-03-04 16:11:55 2019-03-04 16:19:00           1      0.79   5.0   \n",
       "2    2019-03-27 17:53:01 2019-03-27 18:00:25           1      1.37   7.5   \n",
       "3    2019-03-10 01:23:59 2019-03-10 01:49:51           1      7.70  27.0   \n",
       "4    2019-03-30 13:27:42 2019-03-30 13:37:14           3      2.16   9.0   \n",
       "...                  ...                 ...         ...       ...   ...   \n",
       "6428 2019-03-31 09:51:53 2019-03-31 09:55:27           1      0.75   4.5   \n",
       "6429 2019-03-31 17:38:00 2019-03-31 18:34:23           1     18.74  58.0   \n",
       "6430 2019-03-23 22:55:18 2019-03-23 23:14:25           1      4.14  16.0   \n",
       "6431 2019-03-04 10:09:25 2019-03-04 10:14:29           1      1.12   6.0   \n",
       "6432 2019-03-13 19:31:22 2019-03-13 19:48:02           1      3.85  15.0   \n",
       "\n",
       "       tip  tolls  total   color      payment            pickup_zone  \\\n",
       "0     2.15    0.0  12.95  yellow  credit card        Lenox Hill West   \n",
       "1     0.00    0.0   9.30  yellow         cash  Upper West Side South   \n",
       "2     2.36    0.0  14.16  yellow  credit card          Alphabet City   \n",
       "3     6.15    0.0  36.95  yellow  credit card              Hudson Sq   \n",
       "4     1.10    0.0  13.40  yellow  credit card           Midtown East   \n",
       "...    ...    ...    ...     ...          ...                    ...   \n",
       "6428  1.06    0.0   6.36   green  credit card      East Harlem North   \n",
       "6429  0.00    0.0  58.80   green  credit card                Jamaica   \n",
       "6430  0.00    0.0  17.30   green         cash    Crown Heights North   \n",
       "6431  0.00    0.0   6.80   green  credit card          East New York   \n",
       "6432  3.36    0.0  20.16   green  credit card            Boerum Hill   \n",
       "\n",
       "                          dropoff_zone pickup_borough dropoff_borough  \n",
       "0                  UN/Turtle Bay South      Manhattan       Manhattan  \n",
       "1                Upper West Side South      Manhattan       Manhattan  \n",
       "2                         West Village      Manhattan       Manhattan  \n",
       "3                       Yorkville West      Manhattan       Manhattan  \n",
       "4                       Yorkville West      Manhattan       Manhattan  \n",
       "...                                ...            ...             ...  \n",
       "6428              Central Harlem North      Manhattan       Manhattan  \n",
       "6429  East Concourse/Concourse Village         Queens           Bronx  \n",
       "6430                    Bushwick North       Brooklyn        Brooklyn  \n",
       "6431      East Flatbush/Remsen Village       Brooklyn        Brooklyn  \n",
       "6432                   Windsor Terrace       Brooklyn        Brooklyn  \n",
       "\n",
       "[6433 rows x 14 columns]"
      ]
     },
     "execution_count": 6,
     "metadata": {},
     "output_type": "execute_result"
    }
   ],
   "source": [
    "df"
   ]
  },
  {
   "cell_type": "code",
   "execution_count": 8,
   "id": "22f24db5-2b3c-44d0-a6dd-451fb0e77ecf",
   "metadata": {},
   "outputs": [
    {
     "name": "stdout",
     "output_type": "stream",
     "text": [
      "<class 'pandas.core.frame.DataFrame'>\n",
      "RangeIndex: 6433 entries, 0 to 6432\n",
      "Data columns (total 14 columns):\n",
      " #   Column           Non-Null Count  Dtype         \n",
      "---  ------           --------------  -----         \n",
      " 0   pickup           6433 non-null   datetime64[ns]\n",
      " 1   dropoff          6433 non-null   datetime64[ns]\n",
      " 2   passengers       6433 non-null   int64         \n",
      " 3   distance         6433 non-null   float64       \n",
      " 4   fare             6433 non-null   float64       \n",
      " 5   tip              6433 non-null   float64       \n",
      " 6   tolls            6433 non-null   float64       \n",
      " 7   total            6433 non-null   float64       \n",
      " 8   color            6433 non-null   object        \n",
      " 9   payment          6389 non-null   object        \n",
      " 10  pickup_zone      6407 non-null   object        \n",
      " 11  dropoff_zone     6388 non-null   object        \n",
      " 12  pickup_borough   6407 non-null   object        \n",
      " 13  dropoff_borough  6388 non-null   object        \n",
      "dtypes: datetime64[ns](2), float64(5), int64(1), object(6)\n",
      "memory usage: 703.7+ KB\n"
     ]
    }
   ],
   "source": [
    "df.info()"
   ]
  },
  {
   "cell_type": "code",
   "execution_count": 9,
   "id": "6446c646-fb87-4f5b-b7af-43fd585c52b6",
   "metadata": {},
   "outputs": [
    {
     "data": {
      "text/html": [
       "<div>\n",
       "<style scoped>\n",
       "    .dataframe tbody tr th:only-of-type {\n",
       "        vertical-align: middle;\n",
       "    }\n",
       "\n",
       "    .dataframe tbody tr th {\n",
       "        vertical-align: top;\n",
       "    }\n",
       "\n",
       "    .dataframe thead th {\n",
       "        text-align: right;\n",
       "    }\n",
       "</style>\n",
       "<table border=\"1\" class=\"dataframe\">\n",
       "  <thead>\n",
       "    <tr style=\"text-align: right;\">\n",
       "      <th></th>\n",
       "      <th>Date</th>\n",
       "      <th>Price</th>\n",
       "    </tr>\n",
       "  </thead>\n",
       "  <tbody>\n",
       "    <tr>\n",
       "      <th>0</th>\n",
       "      <td>1914-12-01</td>\n",
       "      <td>55.00</td>\n",
       "    </tr>\n",
       "    <tr>\n",
       "      <th>1</th>\n",
       "      <td>1915-01-01</td>\n",
       "      <td>56.55</td>\n",
       "    </tr>\n",
       "    <tr>\n",
       "      <th>2</th>\n",
       "      <td>1915-02-01</td>\n",
       "      <td>56.00</td>\n",
       "    </tr>\n",
       "    <tr>\n",
       "      <th>3</th>\n",
       "      <td>1915-03-01</td>\n",
       "      <td>58.30</td>\n",
       "    </tr>\n",
       "    <tr>\n",
       "      <th>4</th>\n",
       "      <td>1915-04-01</td>\n",
       "      <td>66.45</td>\n",
       "    </tr>\n",
       "    <tr>\n",
       "      <th>...</th>\n",
       "      <td>...</td>\n",
       "      <td>...</td>\n",
       "    </tr>\n",
       "    <tr>\n",
       "      <th>644</th>\n",
       "      <td>1968-08-01</td>\n",
       "      <td>883.72</td>\n",
       "    </tr>\n",
       "    <tr>\n",
       "      <th>645</th>\n",
       "      <td>1968-09-01</td>\n",
       "      <td>922.80</td>\n",
       "    </tr>\n",
       "    <tr>\n",
       "      <th>646</th>\n",
       "      <td>1968-10-01</td>\n",
       "      <td>955.47</td>\n",
       "    </tr>\n",
       "    <tr>\n",
       "      <th>647</th>\n",
       "      <td>1968-11-01</td>\n",
       "      <td>964.12</td>\n",
       "    </tr>\n",
       "    <tr>\n",
       "      <th>648</th>\n",
       "      <td>1968-12-01</td>\n",
       "      <td>965.39</td>\n",
       "    </tr>\n",
       "  </tbody>\n",
       "</table>\n",
       "<p>649 rows × 2 columns</p>\n",
       "</div>"
      ],
      "text/plain": [
       "          Date   Price\n",
       "0   1914-12-01   55.00\n",
       "1   1915-01-01   56.55\n",
       "2   1915-02-01   56.00\n",
       "3   1915-03-01   58.30\n",
       "4   1915-04-01   66.45\n",
       "..         ...     ...\n",
       "644 1968-08-01  883.72\n",
       "645 1968-09-01  922.80\n",
       "646 1968-10-01  955.47\n",
       "647 1968-11-01  964.12\n",
       "648 1968-12-01  965.39\n",
       "\n",
       "[649 rows x 2 columns]"
      ]
     },
     "execution_count": 9,
     "metadata": {},
     "output_type": "execute_result"
    }
   ],
   "source": [
    "sns.load_dataset('dowjones')"
   ]
  },
  {
   "cell_type": "code",
   "execution_count": 10,
   "id": "b31de70e-345c-4a15-b82b-c01e8aad6b12",
   "metadata": {},
   "outputs": [
    {
     "name": "stdout",
     "output_type": "stream",
     "text": [
      "<class 'pandas.core.frame.DataFrame'>\n",
      "RangeIndex: 6433 entries, 0 to 6432\n",
      "Data columns (total 14 columns):\n",
      " #   Column           Non-Null Count  Dtype         \n",
      "---  ------           --------------  -----         \n",
      " 0   pickup           6433 non-null   datetime64[ns]\n",
      " 1   dropoff          6433 non-null   datetime64[ns]\n",
      " 2   passengers       6433 non-null   int64         \n",
      " 3   distance         6433 non-null   float64       \n",
      " 4   fare             6433 non-null   float64       \n",
      " 5   tip              6433 non-null   float64       \n",
      " 6   tolls            6433 non-null   float64       \n",
      " 7   total            6433 non-null   float64       \n",
      " 8   color            6433 non-null   object        \n",
      " 9   payment          6389 non-null   object        \n",
      " 10  pickup_zone      6407 non-null   object        \n",
      " 11  dropoff_zone     6388 non-null   object        \n",
      " 12  pickup_borough   6407 non-null   object        \n",
      " 13  dropoff_borough  6388 non-null   object        \n",
      "dtypes: datetime64[ns](2), float64(5), int64(1), object(6)\n",
      "memory usage: 703.7+ KB\n"
     ]
    }
   ],
   "source": [
    "df.info()"
   ]
  },
  {
   "cell_type": "code",
   "execution_count": 12,
   "id": "20318e76-7d12-4e71-a4b5-5270270afd79",
   "metadata": {},
   "outputs": [],
   "source": [
    "df = sns.load_dataset('flights')"
   ]
  },
  {
   "cell_type": "code",
   "execution_count": 13,
   "id": "b0cef4cb-26c9-45bd-9edc-65b839c5bc40",
   "metadata": {},
   "outputs": [
    {
     "data": {
      "text/html": [
       "<div>\n",
       "<style scoped>\n",
       "    .dataframe tbody tr th:only-of-type {\n",
       "        vertical-align: middle;\n",
       "    }\n",
       "\n",
       "    .dataframe tbody tr th {\n",
       "        vertical-align: top;\n",
       "    }\n",
       "\n",
       "    .dataframe thead th {\n",
       "        text-align: right;\n",
       "    }\n",
       "</style>\n",
       "<table border=\"1\" class=\"dataframe\">\n",
       "  <thead>\n",
       "    <tr style=\"text-align: right;\">\n",
       "      <th></th>\n",
       "      <th>year</th>\n",
       "      <th>month</th>\n",
       "      <th>passengers</th>\n",
       "    </tr>\n",
       "  </thead>\n",
       "  <tbody>\n",
       "    <tr>\n",
       "      <th>0</th>\n",
       "      <td>1949</td>\n",
       "      <td>Jan</td>\n",
       "      <td>112</td>\n",
       "    </tr>\n",
       "    <tr>\n",
       "      <th>1</th>\n",
       "      <td>1949</td>\n",
       "      <td>Feb</td>\n",
       "      <td>118</td>\n",
       "    </tr>\n",
       "    <tr>\n",
       "      <th>2</th>\n",
       "      <td>1949</td>\n",
       "      <td>Mar</td>\n",
       "      <td>132</td>\n",
       "    </tr>\n",
       "    <tr>\n",
       "      <th>3</th>\n",
       "      <td>1949</td>\n",
       "      <td>Apr</td>\n",
       "      <td>129</td>\n",
       "    </tr>\n",
       "    <tr>\n",
       "      <th>4</th>\n",
       "      <td>1949</td>\n",
       "      <td>May</td>\n",
       "      <td>121</td>\n",
       "    </tr>\n",
       "    <tr>\n",
       "      <th>...</th>\n",
       "      <td>...</td>\n",
       "      <td>...</td>\n",
       "      <td>...</td>\n",
       "    </tr>\n",
       "    <tr>\n",
       "      <th>139</th>\n",
       "      <td>1960</td>\n",
       "      <td>Aug</td>\n",
       "      <td>606</td>\n",
       "    </tr>\n",
       "    <tr>\n",
       "      <th>140</th>\n",
       "      <td>1960</td>\n",
       "      <td>Sep</td>\n",
       "      <td>508</td>\n",
       "    </tr>\n",
       "    <tr>\n",
       "      <th>141</th>\n",
       "      <td>1960</td>\n",
       "      <td>Oct</td>\n",
       "      <td>461</td>\n",
       "    </tr>\n",
       "    <tr>\n",
       "      <th>142</th>\n",
       "      <td>1960</td>\n",
       "      <td>Nov</td>\n",
       "      <td>390</td>\n",
       "    </tr>\n",
       "    <tr>\n",
       "      <th>143</th>\n",
       "      <td>1960</td>\n",
       "      <td>Dec</td>\n",
       "      <td>432</td>\n",
       "    </tr>\n",
       "  </tbody>\n",
       "</table>\n",
       "<p>144 rows × 3 columns</p>\n",
       "</div>"
      ],
      "text/plain": [
       "     year month  passengers\n",
       "0    1949   Jan         112\n",
       "1    1949   Feb         118\n",
       "2    1949   Mar         132\n",
       "3    1949   Apr         129\n",
       "4    1949   May         121\n",
       "..    ...   ...         ...\n",
       "139  1960   Aug         606\n",
       "140  1960   Sep         508\n",
       "141  1960   Oct         461\n",
       "142  1960   Nov         390\n",
       "143  1960   Dec         432\n",
       "\n",
       "[144 rows x 3 columns]"
      ]
     },
     "execution_count": 13,
     "metadata": {},
     "output_type": "execute_result"
    }
   ],
   "source": [
    "df"
   ]
  },
  {
   "cell_type": "code",
   "execution_count": 14,
   "id": "e62f58e1-f60b-49d4-aa55-6b866dbe68c0",
   "metadata": {},
   "outputs": [
    {
     "name": "stdout",
     "output_type": "stream",
     "text": [
      "<class 'pandas.core.frame.DataFrame'>\n",
      "RangeIndex: 144 entries, 0 to 143\n",
      "Data columns (total 3 columns):\n",
      " #   Column      Non-Null Count  Dtype   \n",
      "---  ------      --------------  -----   \n",
      " 0   year        144 non-null    int64   \n",
      " 1   month       144 non-null    category\n",
      " 2   passengers  144 non-null    int64   \n",
      "dtypes: category(1), int64(2)\n",
      "memory usage: 2.9 KB\n"
     ]
    }
   ],
   "source": [
    "df.info()"
   ]
  },
  {
   "cell_type": "code",
   "execution_count": 15,
   "id": "03b44220-2c01-443b-82d6-3732d3b01bb7",
   "metadata": {},
   "outputs": [
    {
     "ename": "KeyError",
     "evalue": "'month_number'",
     "output_type": "error",
     "traceback": [
      "\u001b[1;31m---------------------------------------------------------------------------\u001b[0m",
      "\u001b[1;31mKeyError\u001b[0m                                  Traceback (most recent call last)",
      "File \u001b[1;32m~\\anaconda3\\Lib\\site-packages\\pandas\\core\\indexes\\base.py:3805\u001b[0m, in \u001b[0;36mIndex.get_loc\u001b[1;34m(self, key)\u001b[0m\n\u001b[0;32m   3804\u001b[0m \u001b[38;5;28;01mtry\u001b[39;00m:\n\u001b[1;32m-> 3805\u001b[0m     \u001b[38;5;28;01mreturn\u001b[39;00m \u001b[38;5;28mself\u001b[39m\u001b[38;5;241m.\u001b[39m_engine\u001b[38;5;241m.\u001b[39mget_loc(casted_key)\n\u001b[0;32m   3806\u001b[0m \u001b[38;5;28;01mexcept\u001b[39;00m \u001b[38;5;167;01mKeyError\u001b[39;00m \u001b[38;5;28;01mas\u001b[39;00m err:\n",
      "File \u001b[1;32mindex.pyx:167\u001b[0m, in \u001b[0;36mpandas._libs.index.IndexEngine.get_loc\u001b[1;34m()\u001b[0m\n",
      "File \u001b[1;32mindex.pyx:196\u001b[0m, in \u001b[0;36mpandas._libs.index.IndexEngine.get_loc\u001b[1;34m()\u001b[0m\n",
      "File \u001b[1;32mpandas\\\\_libs\\\\hashtable_class_helper.pxi:7081\u001b[0m, in \u001b[0;36mpandas._libs.hashtable.PyObjectHashTable.get_item\u001b[1;34m()\u001b[0m\n",
      "File \u001b[1;32mpandas\\\\_libs\\\\hashtable_class_helper.pxi:7089\u001b[0m, in \u001b[0;36mpandas._libs.hashtable.PyObjectHashTable.get_item\u001b[1;34m()\u001b[0m\n",
      "\u001b[1;31mKeyError\u001b[0m: 'month_number'",
      "\nThe above exception was the direct cause of the following exception:\n",
      "\u001b[1;31mKeyError\u001b[0m                                  Traceback (most recent call last)",
      "Cell \u001b[1;32mIn[15], line 1\u001b[0m\n\u001b[1;32m----> 1\u001b[0m df[\u001b[38;5;124m'\u001b[39m\u001b[38;5;124mmonth_number\u001b[39m\u001b[38;5;124m'\u001b[39m]\n",
      "File \u001b[1;32m~\\anaconda3\\Lib\\site-packages\\pandas\\core\\frame.py:4102\u001b[0m, in \u001b[0;36mDataFrame.__getitem__\u001b[1;34m(self, key)\u001b[0m\n\u001b[0;32m   4100\u001b[0m \u001b[38;5;28;01mif\u001b[39;00m \u001b[38;5;28mself\u001b[39m\u001b[38;5;241m.\u001b[39mcolumns\u001b[38;5;241m.\u001b[39mnlevels \u001b[38;5;241m>\u001b[39m \u001b[38;5;241m1\u001b[39m:\n\u001b[0;32m   4101\u001b[0m     \u001b[38;5;28;01mreturn\u001b[39;00m \u001b[38;5;28mself\u001b[39m\u001b[38;5;241m.\u001b[39m_getitem_multilevel(key)\n\u001b[1;32m-> 4102\u001b[0m indexer \u001b[38;5;241m=\u001b[39m \u001b[38;5;28mself\u001b[39m\u001b[38;5;241m.\u001b[39mcolumns\u001b[38;5;241m.\u001b[39mget_loc(key)\n\u001b[0;32m   4103\u001b[0m \u001b[38;5;28;01mif\u001b[39;00m is_integer(indexer):\n\u001b[0;32m   4104\u001b[0m     indexer \u001b[38;5;241m=\u001b[39m [indexer]\n",
      "File \u001b[1;32m~\\anaconda3\\Lib\\site-packages\\pandas\\core\\indexes\\base.py:3812\u001b[0m, in \u001b[0;36mIndex.get_loc\u001b[1;34m(self, key)\u001b[0m\n\u001b[0;32m   3807\u001b[0m     \u001b[38;5;28;01mif\u001b[39;00m \u001b[38;5;28misinstance\u001b[39m(casted_key, \u001b[38;5;28mslice\u001b[39m) \u001b[38;5;129;01mor\u001b[39;00m (\n\u001b[0;32m   3808\u001b[0m         \u001b[38;5;28misinstance\u001b[39m(casted_key, abc\u001b[38;5;241m.\u001b[39mIterable)\n\u001b[0;32m   3809\u001b[0m         \u001b[38;5;129;01mand\u001b[39;00m \u001b[38;5;28many\u001b[39m(\u001b[38;5;28misinstance\u001b[39m(x, \u001b[38;5;28mslice\u001b[39m) \u001b[38;5;28;01mfor\u001b[39;00m x \u001b[38;5;129;01min\u001b[39;00m casted_key)\n\u001b[0;32m   3810\u001b[0m     ):\n\u001b[0;32m   3811\u001b[0m         \u001b[38;5;28;01mraise\u001b[39;00m InvalidIndexError(key)\n\u001b[1;32m-> 3812\u001b[0m     \u001b[38;5;28;01mraise\u001b[39;00m \u001b[38;5;167;01mKeyError\u001b[39;00m(key) \u001b[38;5;28;01mfrom\u001b[39;00m\u001b[38;5;250m \u001b[39m\u001b[38;5;21;01merr\u001b[39;00m\n\u001b[0;32m   3813\u001b[0m \u001b[38;5;28;01mexcept\u001b[39;00m \u001b[38;5;167;01mTypeError\u001b[39;00m:\n\u001b[0;32m   3814\u001b[0m     \u001b[38;5;66;03m# If we have a listlike key, _check_indexing_error will raise\u001b[39;00m\n\u001b[0;32m   3815\u001b[0m     \u001b[38;5;66;03m#  InvalidIndexError. Otherwise we fall through and re-raise\u001b[39;00m\n\u001b[0;32m   3816\u001b[0m     \u001b[38;5;66;03m#  the TypeError.\u001b[39;00m\n\u001b[0;32m   3817\u001b[0m     \u001b[38;5;28mself\u001b[39m\u001b[38;5;241m.\u001b[39m_check_indexing_error(key)\n",
      "\u001b[1;31mKeyError\u001b[0m: 'month_number'"
     ]
    }
   ],
   "source": [
    "df['month_number']"
   ]
  },
  {
   "cell_type": "code",
   "execution_count": 2,
   "id": "c4257d60-4fb4-4910-95af-234c3c330bf5",
   "metadata": {},
   "outputs": [
    {
     "name": "stdout",
     "output_type": "stream",
     "text": [
      "   id         raw_date\n",
      "0   1       2025-10-06\n",
      "1   2       06/10/2025\n",
      "2   3       10/06/2025\n",
      "3   4  October 6, 2025\n",
      "4   5      06-Oct-2025\n",
      "5   6         20251006\n"
     ]
    }
   ],
   "source": [
    "\n",
    "import pandas as pd\n",
    "\n",
    "# Sample data with mixed date formats\n",
    "data = {\n",
    "    'id': [1, 2, 3, 4, 5, 6],\n",
    "    'raw_date': [\n",
    "        '2025-10-06',     # ISO format\n",
    "        '06/10/2025',     # European format (DD/MM/YYYY)\n",
    "        '10/06/2025',     # US format (MM/DD/YYYY)\n",
    "        'October 6, 2025',# Full month name\n",
    "        '06-Oct-2025',    # Abbreviated month\n",
    "        '20251006'        # Compact YYYYMMDD\n",
    "    ]\n",
    "}\n",
    "\n",
    "# Create DataFrame\n",
    "df = pd.DataFrame(data)\n",
    "\n",
    "print(df)"
   ]
  },
  {
   "cell_type": "code",
   "execution_count": 3,
   "id": "36fb95d6-974a-4ff9-b559-a33e248d9279",
   "metadata": {},
   "outputs": [
    {
     "data": {
      "text/html": [
       "<div>\n",
       "<style scoped>\n",
       "    .dataframe tbody tr th:only-of-type {\n",
       "        vertical-align: middle;\n",
       "    }\n",
       "\n",
       "    .dataframe tbody tr th {\n",
       "        vertical-align: top;\n",
       "    }\n",
       "\n",
       "    .dataframe thead th {\n",
       "        text-align: right;\n",
       "    }\n",
       "</style>\n",
       "<table border=\"1\" class=\"dataframe\">\n",
       "  <thead>\n",
       "    <tr style=\"text-align: right;\">\n",
       "      <th></th>\n",
       "      <th>id</th>\n",
       "      <th>raw_date</th>\n",
       "    </tr>\n",
       "  </thead>\n",
       "  <tbody>\n",
       "    <tr>\n",
       "      <th>0</th>\n",
       "      <td>1</td>\n",
       "      <td>2025-10-06</td>\n",
       "    </tr>\n",
       "    <tr>\n",
       "      <th>1</th>\n",
       "      <td>2</td>\n",
       "      <td>06/10/2025</td>\n",
       "    </tr>\n",
       "    <tr>\n",
       "      <th>2</th>\n",
       "      <td>3</td>\n",
       "      <td>10/06/2025</td>\n",
       "    </tr>\n",
       "    <tr>\n",
       "      <th>3</th>\n",
       "      <td>4</td>\n",
       "      <td>October 6, 2025</td>\n",
       "    </tr>\n",
       "    <tr>\n",
       "      <th>4</th>\n",
       "      <td>5</td>\n",
       "      <td>06-Oct-2025</td>\n",
       "    </tr>\n",
       "    <tr>\n",
       "      <th>5</th>\n",
       "      <td>6</td>\n",
       "      <td>20251006</td>\n",
       "    </tr>\n",
       "  </tbody>\n",
       "</table>\n",
       "</div>"
      ],
      "text/plain": [
       "   id         raw_date\n",
       "0   1       2025-10-06\n",
       "1   2       06/10/2025\n",
       "2   3       10/06/2025\n",
       "3   4  October 6, 2025\n",
       "4   5      06-Oct-2025\n",
       "5   6         20251006"
      ]
     },
     "execution_count": 3,
     "metadata": {},
     "output_type": "execute_result"
    }
   ],
   "source": [
    "df"
   ]
  },
  {
   "cell_type": "code",
   "execution_count": 5,
   "id": "96845492-d799-4922-83f7-8d272c4f102d",
   "metadata": {},
   "outputs": [
    {
     "data": {
      "text/plain": [
       "1   2025-06-10\n",
       "Name: raw_date, dtype: datetime64[ns]"
      ]
     },
     "execution_count": 5,
     "metadata": {},
     "output_type": "execute_result"
    }
   ],
   "source": [
    "pd.to_datetime(df['raw_date'][1:2],format = 'mixed')"
   ]
  },
  {
   "cell_type": "code",
   "execution_count": 6,
   "id": "b0663adb-9d6d-4b28-a289-217f6624c963",
   "metadata": {},
   "outputs": [
    {
     "data": {
      "text/plain": [
       "0   2025-10-06\n",
       "1          NaT\n",
       "2          NaT\n",
       "3          NaT\n",
       "4          NaT\n",
       "5          NaT\n",
       "Name: raw_date, dtype: datetime64[ns]"
      ]
     },
     "execution_count": 6,
     "metadata": {},
     "output_type": "execute_result"
    }
   ],
   "source": [
    "pd.to_datetime(df['raw_date'], errors='coerce')\n"
   ]
  },
  {
   "cell_type": "code",
   "execution_count": 9,
   "id": "1f036eef-c353-461a-98fe-89daa688e98a",
   "metadata": {},
   "outputs": [],
   "source": [
    "a = pd.to_datetime(df['raw_date'][1:2],format = 'mixed')"
   ]
  },
  {
   "cell_type": "code",
   "execution_count": 10,
   "id": "7fc851bd-7150-40c7-b1ce-463f8bf6cca4",
   "metadata": {},
   "outputs": [
    {
     "data": {
      "text/plain": [
       "1   2025-06-10\n",
       "Name: raw_date, dtype: datetime64[ns]"
      ]
     },
     "execution_count": 10,
     "metadata": {},
     "output_type": "execute_result"
    }
   ],
   "source": [
    "a"
   ]
  },
  {
   "cell_type": "code",
   "execution_count": 11,
   "id": "56870670-8f73-4b23-b8bb-3c9adb810002",
   "metadata": {},
   "outputs": [
    {
     "data": {
      "text/plain": [
       "<pandas.core.indexes.accessors.DatetimeProperties object at 0x00000143F85717F0>"
      ]
     },
     "execution_count": 11,
     "metadata": {},
     "output_type": "execute_result"
    }
   ],
   "source": [
    "a.dt"
   ]
  },
  {
   "cell_type": "code",
   "execution_count": 12,
   "id": "60ebc077-1b89-4c60-9a42-2eb7ef232497",
   "metadata": {},
   "outputs": [
    {
     "data": {
      "text/plain": [
       "1    2025\n",
       "Name: raw_date, dtype: int32"
      ]
     },
     "execution_count": 12,
     "metadata": {},
     "output_type": "execute_result"
    }
   ],
   "source": [
    "a.dt.year"
   ]
  },
  {
   "cell_type": "code",
   "execution_count": 13,
   "id": "33abef4a-99e8-4fd5-ae96-29c1816fc3e9",
   "metadata": {},
   "outputs": [
    {
     "data": {
      "text/plain": [
       "1    6\n",
       "Name: raw_date, dtype: int32"
      ]
     },
     "execution_count": 13,
     "metadata": {},
     "output_type": "execute_result"
    }
   ],
   "source": [
    "a.dt.month"
   ]
  },
  {
   "cell_type": "code",
   "execution_count": 14,
   "id": "3958c8a5-8a18-4239-8982-334988f6b33d",
   "metadata": {},
   "outputs": [
    {
     "data": {
      "text/plain": [
       "1    June\n",
       "Name: raw_date, dtype: object"
      ]
     },
     "execution_count": 14,
     "metadata": {},
     "output_type": "execute_result"
    }
   ],
   "source": [
    "a.dt.month_name()"
   ]
  },
  {
   "cell_type": "code",
   "execution_count": 15,
   "id": "75adc50f-12a9-422d-ae67-1378c7ea6a67",
   "metadata": {},
   "outputs": [],
   "source": [
    "import pandas as pd\n",
    "\n",
    "# Sample sales data\n",
    "data = {\n",
    "    'sale_id': [101, 102, 103, 104, 105],\n",
    "    'product': ['Widget', 'Gadget', 'Widget', 'Thingy', 'Gadget'],\n",
    "    'quantity': [3, 5, 2, 7, 1],\n",
    "    'price_per_unit': [20.0, 15.5, 20.0, 10.0, 15.5],\n",
    "    'sale_date': [\n",
    "        '2025-10-01',\n",
    "        '2025-10-02',\n",
    "        '2025-10-03',\n",
    "        '2025-10-03',\n",
    "        '2025-10-04'\n",
    "    ]\n",
    "}\n",
    "# Create DataFrame\n",
    "df = pd.DataFrame(data)\n",
    "\n",
    "# Calculate total\n"
   ]
  },
  {
   "cell_type": "code",
   "execution_count": 16,
   "id": "30952a0f-9dcf-4f77-ac1d-7219af4ec31c",
   "metadata": {},
   "outputs": [
    {
     "name": "stdout",
     "output_type": "stream",
     "text": [
      "<class 'pandas.core.frame.DataFrame'>\n",
      "RangeIndex: 5 entries, 0 to 4\n",
      "Data columns (total 5 columns):\n",
      " #   Column          Non-Null Count  Dtype  \n",
      "---  ------          --------------  -----  \n",
      " 0   sale_id         5 non-null      int64  \n",
      " 1   product         5 non-null      object \n",
      " 2   quantity        5 non-null      int64  \n",
      " 3   price_per_unit  5 non-null      float64\n",
      " 4   sale_date       5 non-null      object \n",
      "dtypes: float64(1), int64(2), object(2)\n",
      "memory usage: 332.0+ bytes\n"
     ]
    }
   ],
   "source": [
    "df.info()"
   ]
  },
  {
   "cell_type": "code",
   "execution_count": 17,
   "id": "18da5ee6-c930-4d67-a13b-bd001a8274b1",
   "metadata": {},
   "outputs": [],
   "source": [
    "df['order_date'] = pd.to_datetime(df['sale_date'])"
   ]
  },
  {
   "cell_type": "code",
   "execution_count": 18,
   "id": "8160c2b2-e92b-4cef-a9f9-c89090788162",
   "metadata": {},
   "outputs": [
    {
     "data": {
      "text/html": [
       "<div>\n",
       "<style scoped>\n",
       "    .dataframe tbody tr th:only-of-type {\n",
       "        vertical-align: middle;\n",
       "    }\n",
       "\n",
       "    .dataframe tbody tr th {\n",
       "        vertical-align: top;\n",
       "    }\n",
       "\n",
       "    .dataframe thead th {\n",
       "        text-align: right;\n",
       "    }\n",
       "</style>\n",
       "<table border=\"1\" class=\"dataframe\">\n",
       "  <thead>\n",
       "    <tr style=\"text-align: right;\">\n",
       "      <th></th>\n",
       "      <th>sale_id</th>\n",
       "      <th>product</th>\n",
       "      <th>quantity</th>\n",
       "      <th>price_per_unit</th>\n",
       "      <th>sale_date</th>\n",
       "      <th>order_date</th>\n",
       "    </tr>\n",
       "  </thead>\n",
       "  <tbody>\n",
       "    <tr>\n",
       "      <th>0</th>\n",
       "      <td>101</td>\n",
       "      <td>Widget</td>\n",
       "      <td>3</td>\n",
       "      <td>20.0</td>\n",
       "      <td>2025-10-01</td>\n",
       "      <td>2025-10-01</td>\n",
       "    </tr>\n",
       "    <tr>\n",
       "      <th>1</th>\n",
       "      <td>102</td>\n",
       "      <td>Gadget</td>\n",
       "      <td>5</td>\n",
       "      <td>15.5</td>\n",
       "      <td>2025-10-02</td>\n",
       "      <td>2025-10-02</td>\n",
       "    </tr>\n",
       "    <tr>\n",
       "      <th>2</th>\n",
       "      <td>103</td>\n",
       "      <td>Widget</td>\n",
       "      <td>2</td>\n",
       "      <td>20.0</td>\n",
       "      <td>2025-10-03</td>\n",
       "      <td>2025-10-03</td>\n",
       "    </tr>\n",
       "    <tr>\n",
       "      <th>3</th>\n",
       "      <td>104</td>\n",
       "      <td>Thingy</td>\n",
       "      <td>7</td>\n",
       "      <td>10.0</td>\n",
       "      <td>2025-10-03</td>\n",
       "      <td>2025-10-03</td>\n",
       "    </tr>\n",
       "    <tr>\n",
       "      <th>4</th>\n",
       "      <td>105</td>\n",
       "      <td>Gadget</td>\n",
       "      <td>1</td>\n",
       "      <td>15.5</td>\n",
       "      <td>2025-10-04</td>\n",
       "      <td>2025-10-04</td>\n",
       "    </tr>\n",
       "  </tbody>\n",
       "</table>\n",
       "</div>"
      ],
      "text/plain": [
       "   sale_id product  quantity  price_per_unit   sale_date order_date\n",
       "0      101  Widget         3            20.0  2025-10-01 2025-10-01\n",
       "1      102  Gadget         5            15.5  2025-10-02 2025-10-02\n",
       "2      103  Widget         2            20.0  2025-10-03 2025-10-03\n",
       "3      104  Thingy         7            10.0  2025-10-03 2025-10-03\n",
       "4      105  Gadget         1            15.5  2025-10-04 2025-10-04"
      ]
     },
     "execution_count": 18,
     "metadata": {},
     "output_type": "execute_result"
    }
   ],
   "source": [
    "df"
   ]
  },
  {
   "cell_type": "code",
   "execution_count": 19,
   "id": "fb3d6e01-7a8e-4d9f-9afe-54c08092e849",
   "metadata": {},
   "outputs": [
    {
     "data": {
      "text/plain": [
       "0    Wednesday\n",
       "1     Thursday\n",
       "2       Friday\n",
       "3       Friday\n",
       "4     Saturday\n",
       "Name: order_date, dtype: object"
      ]
     },
     "execution_count": 19,
     "metadata": {},
     "output_type": "execute_result"
    }
   ],
   "source": [
    "df['order_date'].dt.day_name()\n"
   ]
  },
  {
   "cell_type": "code",
   "execution_count": 20,
   "id": "91c206fc-e517-4334-926b-473e3e12ce51",
   "metadata": {},
   "outputs": [
    {
     "data": {
      "text/html": [
       "<div>\n",
       "<style scoped>\n",
       "    .dataframe tbody tr th:only-of-type {\n",
       "        vertical-align: middle;\n",
       "    }\n",
       "\n",
       "    .dataframe tbody tr th {\n",
       "        vertical-align: top;\n",
       "    }\n",
       "\n",
       "    .dataframe thead th {\n",
       "        text-align: right;\n",
       "    }\n",
       "</style>\n",
       "<table border=\"1\" class=\"dataframe\">\n",
       "  <thead>\n",
       "    <tr style=\"text-align: right;\">\n",
       "      <th></th>\n",
       "      <th>sale_id</th>\n",
       "      <th>quantity</th>\n",
       "      <th>price_per_unit</th>\n",
       "    </tr>\n",
       "    <tr>\n",
       "      <th>order_date</th>\n",
       "      <th></th>\n",
       "      <th></th>\n",
       "      <th></th>\n",
       "    </tr>\n",
       "  </thead>\n",
       "  <tbody>\n",
       "    <tr>\n",
       "      <th>Friday</th>\n",
       "      <td>207</td>\n",
       "      <td>9</td>\n",
       "      <td>30.0</td>\n",
       "    </tr>\n",
       "    <tr>\n",
       "      <th>Saturday</th>\n",
       "      <td>105</td>\n",
       "      <td>1</td>\n",
       "      <td>15.5</td>\n",
       "    </tr>\n",
       "    <tr>\n",
       "      <th>Thursday</th>\n",
       "      <td>102</td>\n",
       "      <td>5</td>\n",
       "      <td>15.5</td>\n",
       "    </tr>\n",
       "    <tr>\n",
       "      <th>Wednesday</th>\n",
       "      <td>101</td>\n",
       "      <td>3</td>\n",
       "      <td>20.0</td>\n",
       "    </tr>\n",
       "  </tbody>\n",
       "</table>\n",
       "</div>"
      ],
      "text/plain": [
       "            sale_id  quantity  price_per_unit\n",
       "order_date                                   \n",
       "Friday          207         9            30.0\n",
       "Saturday        105         1            15.5\n",
       "Thursday        102         5            15.5\n",
       "Wednesday       101         3            20.0"
      ]
     },
     "execution_count": 20,
     "metadata": {},
     "output_type": "execute_result"
    }
   ],
   "source": [
    "df.groupby(df['order_date'].dt.day_name()).sum('price_per_unit')"
   ]
  },
  {
   "cell_type": "code",
   "execution_count": null,
   "id": "dea49fef-33d9-48c5-90a9-eeb70a0c7e90",
   "metadata": {},
   "outputs": [],
   "source": []
  }
 ],
 "metadata": {
  "kernelspec": {
   "display_name": "Python [conda env:base] *",
   "language": "python",
   "name": "conda-base-py"
  },
  "language_info": {
   "codemirror_mode": {
    "name": "ipython",
    "version": 3
   },
   "file_extension": ".py",
   "mimetype": "text/x-python",
   "name": "python",
   "nbconvert_exporter": "python",
   "pygments_lexer": "ipython3",
   "version": "3.13.5"
  }
 },
 "nbformat": 4,
 "nbformat_minor": 5
}
